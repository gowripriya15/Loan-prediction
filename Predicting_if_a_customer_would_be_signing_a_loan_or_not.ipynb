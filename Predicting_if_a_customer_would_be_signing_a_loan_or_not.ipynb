{
  "nbformat": 4,
  "nbformat_minor": 0,
  "metadata": {
    "colab": {
      "name": "Predicting_if_a_customer_would_be_signing_a_loan_or_not.ipynb",
      "provenance": [],
      "collapsed_sections": [],
      "include_colab_link": true
    },
    "kernelspec": {
      "name": "python3",
      "display_name": "Python 3"
    }
  },
  "cells": [
    {
      "cell_type": "markdown",
      "metadata": {
        "id": "view-in-github",
        "colab_type": "text"
      },
      "source": [
        "<a href=\"https://colab.research.google.com/github/gowripriya15/ML-project-1/blob/main/Predicting_if_a_customer_would_be_signing_a_loan_or_not.ipynb\" target=\"_parent\"><img src=\"https://colab.research.google.com/assets/colab-badge.svg\" alt=\"Open In Colab\"/></a>"
      ]
    },
    {
      "cell_type": "code",
      "metadata": {
        "id": "Q26VXHy5J_PW",
        "colab": {
          "resources": {
            "http://localhost:8080/nbextensions/google.colab/files.js": {
              "data": "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",
              "ok": true,
              "headers": [
                [
                  "content-type",
                  "application/javascript"
                ]
              ],
              "status": 200,
              "status_text": ""
            }
          },
          "base_uri": "https://localhost:8080/",
          "height": 72
        },
        "outputId": "0be95022-6099-4625-e401-ae4ece70a30b"
      },
      "source": [
        "from google.colab import files\n",
        "uploaded=files.upload()"
      ],
      "execution_count": null,
      "outputs": [
        {
          "output_type": "display_data",
          "data": {
            "text/html": [
              "\n",
              "     <input type=\"file\" id=\"files-c3473204-93e8-4f5f-952f-fcfe745837ee\" name=\"files[]\" multiple disabled\n",
              "        style=\"border:none\" />\n",
              "     <output id=\"result-c3473204-93e8-4f5f-952f-fcfe745837ee\">\n",
              "      Upload widget is only available when the cell has been executed in the\n",
              "      current browser session. Please rerun this cell to enable.\n",
              "      </output>\n",
              "      <script src=\"/nbextensions/google.colab/files.js\"></script> "
            ],
            "text/plain": [
              "<IPython.core.display.HTML object>"
            ]
          },
          "metadata": {
            "tags": []
          }
        },
        {
          "output_type": "stream",
          "text": [
            "Saving Project-9.csv to Project-9.csv\n"
          ],
          "name": "stdout"
        }
      ]
    },
    {
      "cell_type": "code",
      "metadata": {
        "id": "lQDRSoqSKCVx"
      },
      "source": [
        "import numpy as np\n",
        "import pandas as pd\n",
        "import matplotlib.pyplot as plt\n",
        "import io\n",
        "dataset=pd.read_csv(io.BytesIO(uploaded['Project-9.csv']))"
      ],
      "execution_count": null,
      "outputs": []
    },
    {
      "cell_type": "code",
      "metadata": {
        "id": "LEDK7-XhLuy2",
        "colab": {
          "base_uri": "https://localhost:8080/",
          "height": 217
        },
        "outputId": "0ecb2980-17df-4415-dfec-0a02b0ce145f"
      },
      "source": [
        "dataset.head()"
      ],
      "execution_count": null,
      "outputs": [
        {
          "output_type": "execute_result",
          "data": {
            "text/html": [
              "<div>\n",
              "<style scoped>\n",
              "    .dataframe tbody tr th:only-of-type {\n",
              "        vertical-align: middle;\n",
              "    }\n",
              "\n",
              "    .dataframe tbody tr th {\n",
              "        vertical-align: top;\n",
              "    }\n",
              "\n",
              "    .dataframe thead th {\n",
              "        text-align: right;\n",
              "    }\n",
              "</style>\n",
              "<table border=\"1\" class=\"dataframe\">\n",
              "  <thead>\n",
              "    <tr style=\"text-align: right;\">\n",
              "      <th></th>\n",
              "      <th>entry_id</th>\n",
              "      <th>age</th>\n",
              "      <th>pay_schedule</th>\n",
              "      <th>home_owner</th>\n",
              "      <th>income</th>\n",
              "      <th>months_employed</th>\n",
              "      <th>years_employed</th>\n",
              "      <th>current_address_year</th>\n",
              "      <th>personal_account_m</th>\n",
              "      <th>personal_account_y</th>\n",
              "      <th>has_debt</th>\n",
              "      <th>amount_requested</th>\n",
              "      <th>risk_score</th>\n",
              "      <th>risk_score_2</th>\n",
              "      <th>risk_score_3</th>\n",
              "      <th>risk_score_4</th>\n",
              "      <th>risk_score_5</th>\n",
              "      <th>ext_quality_score</th>\n",
              "      <th>ext_quality_score_2</th>\n",
              "      <th>inquiries_last_month</th>\n",
              "      <th>e_signed</th>\n",
              "    </tr>\n",
              "  </thead>\n",
              "  <tbody>\n",
              "    <tr>\n",
              "      <th>0</th>\n",
              "      <td>7629673</td>\n",
              "      <td>40</td>\n",
              "      <td>bi-weekly</td>\n",
              "      <td>1</td>\n",
              "      <td>3135</td>\n",
              "      <td>0</td>\n",
              "      <td>3</td>\n",
              "      <td>3</td>\n",
              "      <td>6</td>\n",
              "      <td>2</td>\n",
              "      <td>1</td>\n",
              "      <td>550</td>\n",
              "      <td>36200</td>\n",
              "      <td>0.737398</td>\n",
              "      <td>0.903517</td>\n",
              "      <td>0.487712</td>\n",
              "      <td>0.515977</td>\n",
              "      <td>0.580918</td>\n",
              "      <td>0.380918</td>\n",
              "      <td>10</td>\n",
              "      <td>1</td>\n",
              "    </tr>\n",
              "    <tr>\n",
              "      <th>1</th>\n",
              "      <td>3560428</td>\n",
              "      <td>61</td>\n",
              "      <td>weekly</td>\n",
              "      <td>0</td>\n",
              "      <td>3180</td>\n",
              "      <td>0</td>\n",
              "      <td>6</td>\n",
              "      <td>3</td>\n",
              "      <td>2</td>\n",
              "      <td>7</td>\n",
              "      <td>1</td>\n",
              "      <td>600</td>\n",
              "      <td>30150</td>\n",
              "      <td>0.738510</td>\n",
              "      <td>0.881027</td>\n",
              "      <td>0.713423</td>\n",
              "      <td>0.826402</td>\n",
              "      <td>0.730720</td>\n",
              "      <td>0.630720</td>\n",
              "      <td>9</td>\n",
              "      <td>0</td>\n",
              "    </tr>\n",
              "    <tr>\n",
              "      <th>2</th>\n",
              "      <td>6934997</td>\n",
              "      <td>23</td>\n",
              "      <td>weekly</td>\n",
              "      <td>0</td>\n",
              "      <td>1540</td>\n",
              "      <td>6</td>\n",
              "      <td>0</td>\n",
              "      <td>0</td>\n",
              "      <td>7</td>\n",
              "      <td>1</td>\n",
              "      <td>1</td>\n",
              "      <td>450</td>\n",
              "      <td>34550</td>\n",
              "      <td>0.642993</td>\n",
              "      <td>0.766554</td>\n",
              "      <td>0.595018</td>\n",
              "      <td>0.762284</td>\n",
              "      <td>0.531712</td>\n",
              "      <td>0.531712</td>\n",
              "      <td>7</td>\n",
              "      <td>0</td>\n",
              "    </tr>\n",
              "    <tr>\n",
              "      <th>3</th>\n",
              "      <td>5682812</td>\n",
              "      <td>40</td>\n",
              "      <td>bi-weekly</td>\n",
              "      <td>0</td>\n",
              "      <td>5230</td>\n",
              "      <td>0</td>\n",
              "      <td>6</td>\n",
              "      <td>1</td>\n",
              "      <td>2</td>\n",
              "      <td>7</td>\n",
              "      <td>1</td>\n",
              "      <td>700</td>\n",
              "      <td>42150</td>\n",
              "      <td>0.665224</td>\n",
              "      <td>0.960832</td>\n",
              "      <td>0.767828</td>\n",
              "      <td>0.778831</td>\n",
              "      <td>0.792552</td>\n",
              "      <td>0.592552</td>\n",
              "      <td>8</td>\n",
              "      <td>1</td>\n",
              "    </tr>\n",
              "    <tr>\n",
              "      <th>4</th>\n",
              "      <td>5335819</td>\n",
              "      <td>33</td>\n",
              "      <td>semi-monthly</td>\n",
              "      <td>0</td>\n",
              "      <td>3590</td>\n",
              "      <td>0</td>\n",
              "      <td>5</td>\n",
              "      <td>2</td>\n",
              "      <td>2</td>\n",
              "      <td>8</td>\n",
              "      <td>1</td>\n",
              "      <td>1100</td>\n",
              "      <td>53850</td>\n",
              "      <td>0.617361</td>\n",
              "      <td>0.857560</td>\n",
              "      <td>0.613487</td>\n",
              "      <td>0.665523</td>\n",
              "      <td>0.744634</td>\n",
              "      <td>0.744634</td>\n",
              "      <td>12</td>\n",
              "      <td>0</td>\n",
              "    </tr>\n",
              "  </tbody>\n",
              "</table>\n",
              "</div>"
            ],
            "text/plain": [
              "   entry_id  age  ... inquiries_last_month  e_signed\n",
              "0   7629673   40  ...                   10         1\n",
              "1   3560428   61  ...                    9         0\n",
              "2   6934997   23  ...                    7         0\n",
              "3   5682812   40  ...                    8         1\n",
              "4   5335819   33  ...                   12         0\n",
              "\n",
              "[5 rows x 21 columns]"
            ]
          },
          "metadata": {
            "tags": []
          },
          "execution_count": 3
        }
      ]
    },
    {
      "cell_type": "code",
      "metadata": {
        "id": "m-OVIW8ULza5",
        "colab": {
          "base_uri": "https://localhost:8080/",
          "height": 514
        },
        "outputId": "5b3535bb-98ad-42c0-bb10-0ba10af6fc9b"
      },
      "source": [
        "dataset.info()"
      ],
      "execution_count": null,
      "outputs": [
        {
          "output_type": "stream",
          "text": [
            "<class 'pandas.core.frame.DataFrame'>\n",
            "RangeIndex: 17908 entries, 0 to 17907\n",
            "Data columns (total 21 columns):\n",
            " #   Column                Non-Null Count  Dtype  \n",
            "---  ------                --------------  -----  \n",
            " 0   entry_id              17908 non-null  int64  \n",
            " 1   age                   17908 non-null  int64  \n",
            " 2   pay_schedule          17908 non-null  object \n",
            " 3   home_owner            17908 non-null  int64  \n",
            " 4   income                17908 non-null  int64  \n",
            " 5   months_employed       17908 non-null  int64  \n",
            " 6   years_employed        17908 non-null  int64  \n",
            " 7   current_address_year  17908 non-null  int64  \n",
            " 8   personal_account_m    17908 non-null  int64  \n",
            " 9   personal_account_y    17908 non-null  int64  \n",
            " 10  has_debt              17908 non-null  int64  \n",
            " 11  amount_requested      17908 non-null  int64  \n",
            " 12  risk_score            17908 non-null  int64  \n",
            " 13  risk_score_2          17908 non-null  float64\n",
            " 14  risk_score_3          17908 non-null  float64\n",
            " 15  risk_score_4          17908 non-null  float64\n",
            " 16  risk_score_5          17908 non-null  float64\n",
            " 17  ext_quality_score     17908 non-null  float64\n",
            " 18  ext_quality_score_2   17908 non-null  float64\n",
            " 19  inquiries_last_month  17908 non-null  int64  \n",
            " 20  e_signed              17908 non-null  int64  \n",
            "dtypes: float64(6), int64(14), object(1)\n",
            "memory usage: 2.9+ MB\n"
          ],
          "name": "stdout"
        }
      ]
    },
    {
      "cell_type": "code",
      "metadata": {
        "id": "OwvBjFIHL3PB",
        "colab": {
          "base_uri": "https://localhost:8080/",
          "height": 440
        },
        "outputId": "0af514db-98cb-4b7f-c315-70e5ccee96c9"
      },
      "source": [
        "import seaborn as sns\n",
        "sns.heatmap(dataset.isnull(),cmap='plasma')"
      ],
      "execution_count": null,
      "outputs": [
        {
          "output_type": "stream",
          "text": [
            "/usr/local/lib/python3.6/dist-packages/statsmodels/tools/_testing.py:19: FutureWarning: pandas.util.testing is deprecated. Use the functions in the public API at pandas.testing instead.\n",
            "  import pandas.util.testing as tm\n"
          ],
          "name": "stderr"
        },
        {
          "output_type": "execute_result",
          "data": {
            "text/plain": [
              "<matplotlib.axes._subplots.AxesSubplot at 0x7f9f07b0aa58>"
            ]
          },
          "metadata": {
            "tags": []
          },
          "execution_count": 5
        },
        {
          "output_type": "display_data",
          "data": {
            "image/png": "[encoded data removed]",
            "text/plain": [
              "<Figure size 432x288 with 2 Axes>"
            ]
          },
          "metadata": {
            "tags": [],
            "needs_background": "light"
          }
        }
      ]
    },
    {
      "cell_type": "code",
      "metadata": {
        "id": "1VFp67joL6Ih",
        "colab": {
          "base_uri": "https://localhost:8080/",
          "height": 297
        },
        "outputId": "d41b8227-bcc9-40b7-ace3-28df97534560"
      },
      "source": [
        "sns.countplot(x='e_signed',hue='pay_schedule',data=dataset)"
      ],
      "execution_count": null,
      "outputs": [
        {
          "output_type": "execute_result",
          "data": {
            "text/plain": [
              "<matplotlib.axes._subplots.AxesSubplot at 0x7f9f04194940>"
            ]
          },
          "metadata": {
            "tags": []
          },
          "execution_count": 6
        },
        {
          "output_type": "display_data",
          "data": {
            "image/png": "[encoded data removed]",
            "text/plain": [
              "<Figure size 432x288 with 1 Axes>"
            ]
          },
          "metadata": {
            "tags": [],
            "needs_background": "light"
          }
        }
      ]
    },
    {
      "cell_type": "code",
      "metadata": {
        "id": "1fCM9ZBoL8SB",
        "colab": {
          "base_uri": "https://localhost:8080/",
          "height": 301
        },
        "outputId": "ed651c99-bc1f-41c4-d518-41ec0b540224"
      },
      "source": [
        "sns.countplot(x='e_signed',hue='home_owner',data=dataset)"
      ],
      "execution_count": null,
      "outputs": [
        {
          "output_type": "execute_result",
          "data": {
            "text/plain": [
              "<matplotlib.axes._subplots.AxesSubplot at 0x7f9f03cef470>"
            ]
          },
          "metadata": {
            "tags": []
          },
          "execution_count": 7
        },
        {
          "output_type": "display_data",
          "data": {
            "image/png": "[encoded data removed]",
            "text/plain": [
              "<Figure size 432x288 with 1 Axes>"
            ]
          },
          "metadata": {
            "tags": [],
            "needs_background": "light"
          }
        }
      ]
    },
    {
      "cell_type": "code",
      "metadata": {
        "id": "RuhQ3vDpiDfp",
        "colab": {
          "base_uri": "https://localhost:8080/",
          "height": 297
        },
        "outputId": "a5796ef2-bc72-429d-962c-73809f5d3bf4"
      },
      "source": [
        "sns.countplot(x='e_signed',hue='months_employed',data=dataset)"
      ],
      "execution_count": null,
      "outputs": [
        {
          "output_type": "execute_result",
          "data": {
            "text/plain": [
              "<matplotlib.axes._subplots.AxesSubplot at 0x7f9f03c44208>"
            ]
          },
          "metadata": {
            "tags": []
          },
          "execution_count": 8
        },
        {
          "output_type": "display_data",
          "data": {
            "image/png": "[encoded data removed]",
            "text/plain": [
              "<Figure size 432x288 with 1 Axes>"
            ]
          },
          "metadata": {
            "tags": [],
            "needs_background": "light"
          }
        }
      ]
    },
    {
      "cell_type": "code",
      "metadata": {
        "id": "lRD1v9s2iGy0",
        "colab": {
          "base_uri": "https://localhost:8080/",
          "height": 297
        },
        "outputId": "2be6a439-a8e9-4174-b782-87959ced7470"
      },
      "source": [
        "sns.countplot(x='e_signed',hue='has_debt',data=dataset)"
      ],
      "execution_count": null,
      "outputs": [
        {
          "output_type": "execute_result",
          "data": {
            "text/plain": [
              "<matplotlib.axes._subplots.AxesSubplot at 0x7f9f041e88d0>"
            ]
          },
          "metadata": {
            "tags": []
          },
          "execution_count": 9
        },
        {
          "output_type": "display_data",
          "data": {
            "image/png": "[encoded data removed]",
            "text/plain": [
              "<Figure size 432x288 with 1 Axes>"
            ]
          },
          "metadata": {
            "tags": [],
            "needs_background": "light"
          }
        }
      ]
    },
    {
      "cell_type": "code",
      "metadata": {
        "id": "jX090ZdtL_y4"
      },
      "source": [
        "X = dataset.iloc[:,0:20]  \n",
        "y = dataset.iloc[:,-1]"
      ],
      "execution_count": null,
      "outputs": []
    },
    {
      "cell_type": "code",
      "metadata": {
        "id": "6oeIv-jyMCzO",
        "colab": {
          "base_uri": "https://localhost:8080/",
          "height": 406
        },
        "outputId": "dd0995b1-06dd-49ff-c605-a315d34fa49a"
      },
      "source": [
        "pay=pd.get_dummies(X['pay_schedule'],drop_first=True)\n",
        "pay"
      ],
      "execution_count": null,
      "outputs": [
        {
          "output_type": "execute_result",
          "data": {
            "text/html": [
              "<div>\n",
              "<style scoped>\n",
              "    .dataframe tbody tr th:only-of-type {\n",
              "        vertical-align: middle;\n",
              "    }\n",
              "\n",
              "    .dataframe tbody tr th {\n",
              "        vertical-align: top;\n",
              "    }\n",
              "\n",
              "    .dataframe thead th {\n",
              "        text-align: right;\n",
              "    }\n",
              "</style>\n",
              "<table border=\"1\" class=\"dataframe\">\n",
              "  <thead>\n",
              "    <tr style=\"text-align: right;\">\n",
              "      <th></th>\n",
              "      <th>monthly</th>\n",
              "      <th>semi-monthly</th>\n",
              "      <th>weekly</th>\n",
              "    </tr>\n",
              "  </thead>\n",
              "  <tbody>\n",
              "    <tr>\n",
              "      <th>0</th>\n",
              "      <td>0</td>\n",
              "      <td>0</td>\n",
              "      <td>0</td>\n",
              "    </tr>\n",
              "    <tr>\n",
              "      <th>1</th>\n",
              "      <td>0</td>\n",
              "      <td>0</td>\n",
              "      <td>1</td>\n",
              "    </tr>\n",
              "    <tr>\n",
              "      <th>2</th>\n",
              "      <td>0</td>\n",
              "      <td>0</td>\n",
              "      <td>1</td>\n",
              "    </tr>\n",
              "    <tr>\n",
              "      <th>3</th>\n",
              "      <td>0</td>\n",
              "      <td>0</td>\n",
              "      <td>0</td>\n",
              "    </tr>\n",
              "    <tr>\n",
              "      <th>4</th>\n",
              "      <td>0</td>\n",
              "      <td>1</td>\n",
              "      <td>0</td>\n",
              "    </tr>\n",
              "    <tr>\n",
              "      <th>...</th>\n",
              "      <td>...</td>\n",
              "      <td>...</td>\n",
              "      <td>...</td>\n",
              "    </tr>\n",
              "    <tr>\n",
              "      <th>17903</th>\n",
              "      <td>1</td>\n",
              "      <td>0</td>\n",
              "      <td>0</td>\n",
              "    </tr>\n",
              "    <tr>\n",
              "      <th>17904</th>\n",
              "      <td>0</td>\n",
              "      <td>0</td>\n",
              "      <td>0</td>\n",
              "    </tr>\n",
              "    <tr>\n",
              "      <th>17905</th>\n",
              "      <td>0</td>\n",
              "      <td>0</td>\n",
              "      <td>1</td>\n",
              "    </tr>\n",
              "    <tr>\n",
              "      <th>17906</th>\n",
              "      <td>0</td>\n",
              "      <td>0</td>\n",
              "      <td>0</td>\n",
              "    </tr>\n",
              "    <tr>\n",
              "      <th>17907</th>\n",
              "      <td>0</td>\n",
              "      <td>0</td>\n",
              "      <td>1</td>\n",
              "    </tr>\n",
              "  </tbody>\n",
              "</table>\n",
              "<p>17908 rows × 3 columns</p>\n",
              "</div>"
            ],
            "text/plain": [
              "       monthly  semi-monthly  weekly\n",
              "0            0             0       0\n",
              "1            0             0       1\n",
              "2            0             0       1\n",
              "3            0             0       0\n",
              "4            0             1       0\n",
              "...        ...           ...     ...\n",
              "17903        1             0       0\n",
              "17904        0             0       0\n",
              "17905        0             0       1\n",
              "17906        0             0       0\n",
              "17907        0             0       1\n",
              "\n",
              "[17908 rows x 3 columns]"
            ]
          },
          "metadata": {
            "tags": []
          },
          "execution_count": 11
        }
      ]
    },
    {
      "cell_type": "code",
      "metadata": {
        "id": "oBsma1BGMGSN",
        "colab": {
          "base_uri": "https://localhost:8080/",
          "height": 443
        },
        "outputId": "27b53f61-3893-4df5-d25d-2626283a46b5"
      },
      "source": [
        "X=pd.concat([X,pay],axis=1)\n",
        "X.drop('pay_schedule',axis=1,inplace=True)\n",
        "X"
      ],
      "execution_count": null,
      "outputs": [
        {
          "output_type": "execute_result",
          "data": {
            "text/html": [
              "<div>\n",
              "<style scoped>\n",
              "    .dataframe tbody tr th:only-of-type {\n",
              "        vertical-align: middle;\n",
              "    }\n",
              "\n",
              "    .dataframe tbody tr th {\n",
              "        vertical-align: top;\n",
              "    }\n",
              "\n",
              "    .dataframe thead th {\n",
              "        text-align: right;\n",
              "    }\n",
              "</style>\n",
              "<table border=\"1\" class=\"dataframe\">\n",
              "  <thead>\n",
              "    <tr style=\"text-align: right;\">\n",
              "      <th></th>\n",
              "      <th>entry_id</th>\n",
              "      <th>age</th>\n",
              "      <th>home_owner</th>\n",
              "      <th>income</th>\n",
              "      <th>months_employed</th>\n",
              "      <th>years_employed</th>\n",
              "      <th>current_address_year</th>\n",
              "      <th>personal_account_m</th>\n",
              "      <th>personal_account_y</th>\n",
              "      <th>has_debt</th>\n",
              "      <th>amount_requested</th>\n",
              "      <th>risk_score</th>\n",
              "      <th>risk_score_2</th>\n",
              "      <th>risk_score_3</th>\n",
              "      <th>risk_score_4</th>\n",
              "      <th>risk_score_5</th>\n",
              "      <th>ext_quality_score</th>\n",
              "      <th>ext_quality_score_2</th>\n",
              "      <th>inquiries_last_month</th>\n",
              "      <th>monthly</th>\n",
              "      <th>semi-monthly</th>\n",
              "      <th>weekly</th>\n",
              "    </tr>\n",
              "  </thead>\n",
              "  <tbody>\n",
              "    <tr>\n",
              "      <th>0</th>\n",
              "      <td>7629673</td>\n",
              "      <td>40</td>\n",
              "      <td>1</td>\n",
              "      <td>3135</td>\n",
              "      <td>0</td>\n",
              "      <td>3</td>\n",
              "      <td>3</td>\n",
              "      <td>6</td>\n",
              "      <td>2</td>\n",
              "      <td>1</td>\n",
              "      <td>550</td>\n",
              "      <td>36200</td>\n",
              "      <td>0.737398</td>\n",
              "      <td>0.903517</td>\n",
              "      <td>0.487712</td>\n",
              "      <td>0.515977</td>\n",
              "      <td>0.580918</td>\n",
              "      <td>0.380918</td>\n",
              "      <td>10</td>\n",
              "      <td>0</td>\n",
              "      <td>0</td>\n",
              "      <td>0</td>\n",
              "    </tr>\n",
              "    <tr>\n",
              "      <th>1</th>\n",
              "      <td>3560428</td>\n",
              "      <td>61</td>\n",
              "      <td>0</td>\n",
              "      <td>3180</td>\n",
              "      <td>0</td>\n",
              "      <td>6</td>\n",
              "      <td>3</td>\n",
              "      <td>2</td>\n",
              "      <td>7</td>\n",
              "      <td>1</td>\n",
              "      <td>600</td>\n",
              "      <td>30150</td>\n",
              "      <td>0.738510</td>\n",
              "      <td>0.881027</td>\n",
              "      <td>0.713423</td>\n",
              "      <td>0.826402</td>\n",
              "      <td>0.730720</td>\n",
              "      <td>0.630720</td>\n",
              "      <td>9</td>\n",
              "      <td>0</td>\n",
              "      <td>0</td>\n",
              "      <td>1</td>\n",
              "    </tr>\n",
              "    <tr>\n",
              "      <th>2</th>\n",
              "      <td>6934997</td>\n",
              "      <td>23</td>\n",
              "      <td>0</td>\n",
              "      <td>1540</td>\n",
              "      <td>6</td>\n",
              "      <td>0</td>\n",
              "      <td>0</td>\n",
              "      <td>7</td>\n",
              "      <td>1</td>\n",
              "      <td>1</td>\n",
              "      <td>450</td>\n",
              "      <td>34550</td>\n",
              "      <td>0.642993</td>\n",
              "      <td>0.766554</td>\n",
              "      <td>0.595018</td>\n",
              "      <td>0.762284</td>\n",
              "      <td>0.531712</td>\n",
              "      <td>0.531712</td>\n",
              "      <td>7</td>\n",
              "      <td>0</td>\n",
              "      <td>0</td>\n",
              "      <td>1</td>\n",
              "    </tr>\n",
              "    <tr>\n",
              "      <th>3</th>\n",
              "      <td>5682812</td>\n",
              "      <td>40</td>\n",
              "      <td>0</td>\n",
              "      <td>5230</td>\n",
              "      <td>0</td>\n",
              "      <td>6</td>\n",
              "      <td>1</td>\n",
              "      <td>2</td>\n",
              "      <td>7</td>\n",
              "      <td>1</td>\n",
              "      <td>700</td>\n",
              "      <td>42150</td>\n",
              "      <td>0.665224</td>\n",
              "      <td>0.960832</td>\n",
              "      <td>0.767828</td>\n",
              "      <td>0.778831</td>\n",
              "      <td>0.792552</td>\n",
              "      <td>0.592552</td>\n",
              "      <td>8</td>\n",
              "      <td>0</td>\n",
              "      <td>0</td>\n",
              "      <td>0</td>\n",
              "    </tr>\n",
              "    <tr>\n",
              "      <th>4</th>\n",
              "      <td>5335819</td>\n",
              "      <td>33</td>\n",
              "      <td>0</td>\n",
              "      <td>3590</td>\n",
              "      <td>0</td>\n",
              "      <td>5</td>\n",
              "      <td>2</td>\n",
              "      <td>2</td>\n",
              "      <td>8</td>\n",
              "      <td>1</td>\n",
              "      <td>1100</td>\n",
              "      <td>53850</td>\n",
              "      <td>0.617361</td>\n",
              "      <td>0.857560</td>\n",
              "      <td>0.613487</td>\n",
              "      <td>0.665523</td>\n",
              "      <td>0.744634</td>\n",
              "      <td>0.744634</td>\n",
              "      <td>12</td>\n",
              "      <td>0</td>\n",
              "      <td>1</td>\n",
              "      <td>0</td>\n",
              "    </tr>\n",
              "    <tr>\n",
              "      <th>...</th>\n",
              "      <td>...</td>\n",
              "      <td>...</td>\n",
              "      <td>...</td>\n",
              "      <td>...</td>\n",
              "      <td>...</td>\n",
              "      <td>...</td>\n",
              "      <td>...</td>\n",
              "      <td>...</td>\n",
              "      <td>...</td>\n",
              "      <td>...</td>\n",
              "      <td>...</td>\n",
              "      <td>...</td>\n",
              "      <td>...</td>\n",
              "      <td>...</td>\n",
              "      <td>...</td>\n",
              "      <td>...</td>\n",
              "      <td>...</td>\n",
              "      <td>...</td>\n",
              "      <td>...</td>\n",
              "      <td>...</td>\n",
              "      <td>...</td>\n",
              "      <td>...</td>\n",
              "    </tr>\n",
              "    <tr>\n",
              "      <th>17903</th>\n",
              "      <td>9949728</td>\n",
              "      <td>31</td>\n",
              "      <td>0</td>\n",
              "      <td>3245</td>\n",
              "      <td>0</td>\n",
              "      <td>5</td>\n",
              "      <td>3</td>\n",
              "      <td>2</td>\n",
              "      <td>6</td>\n",
              "      <td>1</td>\n",
              "      <td>700</td>\n",
              "      <td>71700</td>\n",
              "      <td>0.691126</td>\n",
              "      <td>0.928196</td>\n",
              "      <td>0.664112</td>\n",
              "      <td>0.838012</td>\n",
              "      <td>0.727705</td>\n",
              "      <td>0.627705</td>\n",
              "      <td>2</td>\n",
              "      <td>1</td>\n",
              "      <td>0</td>\n",
              "      <td>0</td>\n",
              "    </tr>\n",
              "    <tr>\n",
              "      <th>17904</th>\n",
              "      <td>9442442</td>\n",
              "      <td>46</td>\n",
              "      <td>0</td>\n",
              "      <td>6525</td>\n",
              "      <td>0</td>\n",
              "      <td>2</td>\n",
              "      <td>1</td>\n",
              "      <td>3</td>\n",
              "      <td>3</td>\n",
              "      <td>1</td>\n",
              "      <td>800</td>\n",
              "      <td>51800</td>\n",
              "      <td>0.648525</td>\n",
              "      <td>0.970832</td>\n",
              "      <td>0.699241</td>\n",
              "      <td>0.844724</td>\n",
              "      <td>0.774918</td>\n",
              "      <td>0.474918</td>\n",
              "      <td>3</td>\n",
              "      <td>0</td>\n",
              "      <td>0</td>\n",
              "      <td>0</td>\n",
              "    </tr>\n",
              "    <tr>\n",
              "      <th>17905</th>\n",
              "      <td>9857590</td>\n",
              "      <td>46</td>\n",
              "      <td>0</td>\n",
              "      <td>2685</td>\n",
              "      <td>0</td>\n",
              "      <td>5</td>\n",
              "      <td>1</td>\n",
              "      <td>1</td>\n",
              "      <td>8</td>\n",
              "      <td>1</td>\n",
              "      <td>1200</td>\n",
              "      <td>59650</td>\n",
              "      <td>0.677975</td>\n",
              "      <td>0.918141</td>\n",
              "      <td>0.687981</td>\n",
              "      <td>0.939101</td>\n",
              "      <td>0.472045</td>\n",
              "      <td>0.672045</td>\n",
              "      <td>9</td>\n",
              "      <td>0</td>\n",
              "      <td>0</td>\n",
              "      <td>1</td>\n",
              "    </tr>\n",
              "    <tr>\n",
              "      <th>17906</th>\n",
              "      <td>8708471</td>\n",
              "      <td>42</td>\n",
              "      <td>0</td>\n",
              "      <td>2515</td>\n",
              "      <td>0</td>\n",
              "      <td>3</td>\n",
              "      <td>5</td>\n",
              "      <td>6</td>\n",
              "      <td>1</td>\n",
              "      <td>1</td>\n",
              "      <td>400</td>\n",
              "      <td>80200</td>\n",
              "      <td>0.642741</td>\n",
              "      <td>0.885684</td>\n",
              "      <td>0.456448</td>\n",
              "      <td>0.686823</td>\n",
              "      <td>0.406568</td>\n",
              "      <td>0.406568</td>\n",
              "      <td>3</td>\n",
              "      <td>0</td>\n",
              "      <td>0</td>\n",
              "      <td>0</td>\n",
              "    </tr>\n",
              "    <tr>\n",
              "      <th>17907</th>\n",
              "      <td>1498559</td>\n",
              "      <td>29</td>\n",
              "      <td>1</td>\n",
              "      <td>2665</td>\n",
              "      <td>0</td>\n",
              "      <td>4</td>\n",
              "      <td>10</td>\n",
              "      <td>4</td>\n",
              "      <td>1</td>\n",
              "      <td>1</td>\n",
              "      <td>600</td>\n",
              "      <td>64950</td>\n",
              "      <td>0.720889</td>\n",
              "      <td>0.874372</td>\n",
              "      <td>0.505565</td>\n",
              "      <td>0.631619</td>\n",
              "      <td>0.846163</td>\n",
              "      <td>0.846163</td>\n",
              "      <td>4</td>\n",
              "      <td>0</td>\n",
              "      <td>0</td>\n",
              "      <td>1</td>\n",
              "    </tr>\n",
              "  </tbody>\n",
              "</table>\n",
              "<p>17908 rows × 22 columns</p>\n",
              "</div>"
            ],
            "text/plain": [
              "       entry_id  age  home_owner  ...  monthly  semi-monthly  weekly\n",
              "0       7629673   40           1  ...        0             0       0\n",
              "1       3560428   61           0  ...        0             0       1\n",
              "2       6934997   23           0  ...        0             0       1\n",
              "3       5682812   40           0  ...        0             0       0\n",
              "4       5335819   33           0  ...        0             1       0\n",
              "...         ...  ...         ...  ...      ...           ...     ...\n",
              "17903   9949728   31           0  ...        1             0       0\n",
              "17904   9442442   46           0  ...        0             0       0\n",
              "17905   9857590   46           0  ...        0             0       1\n",
              "17906   8708471   42           0  ...        0             0       0\n",
              "17907   1498559   29           1  ...        0             0       1\n",
              "\n",
              "[17908 rows x 22 columns]"
            ]
          },
          "metadata": {
            "tags": []
          },
          "execution_count": 12
        }
      ]
    },
    {
      "cell_type": "code",
      "metadata": {
        "id": "xzVN0qeGi64M",
        "colab": {
          "base_uri": "https://localhost:8080/",
          "height": 212
        },
        "outputId": "6bc6561f-2b48-464e-9ac9-019c21c277aa"
      },
      "source": [
        "from sklearn.feature_selection import SelectKBest\n",
        "from sklearn.feature_selection import chi2\n",
        "bestfeatures = SelectKBest(score_func=chi2, k=10)\n",
        "fit = bestfeatures.fit(X,y)\n",
        "dfscores = pd.DataFrame(fit.scores_)\n",
        "dfcolumns = pd.DataFrame(X.columns) \n",
        "featureScores = pd.concat([dfcolumns,dfscores],axis=1)\n",
        "featureScores.columns = ['features','Score']  \n",
        "print(featureScores.nlargest(10,'Score'))"
      ],
      "execution_count": null,
      "outputs": [
        {
          "output_type": "stream",
          "text": [
            "                features          Score\n",
            "11            risk_score  514968.975244\n",
            "0               entry_id  157188.303054\n",
            "10      amount_requested   44498.468276\n",
            "3                 income   10916.799899\n",
            "1                    age     552.148409\n",
            "7     personal_account_m     169.219903\n",
            "18  inquiries_last_month      23.693774\n",
            "2             home_owner      23.136657\n",
            "20          semi-monthly      18.636687\n",
            "6   current_address_year      13.612249\n"
          ],
          "name": "stdout"
        }
      ]
    },
    {
      "cell_type": "code",
      "metadata": {
        "id": "Ju8H58SCOctU",
        "colab": {
          "base_uri": "https://localhost:8080/",
          "height": 443
        },
        "outputId": "ca0496a8-904a-47da-85dc-1b29bc5f0454"
      },
      "source": [
        "X.drop('entry_id',axis=1,inplace=True)\n",
        "X"
      ],
      "execution_count": null,
      "outputs": [
        {
          "output_type": "execute_result",
          "data": {
            "text/html": [
              "<div>\n",
              "<style scoped>\n",
              "    .dataframe tbody tr th:only-of-type {\n",
              "        vertical-align: middle;\n",
              "    }\n",
              "\n",
              "    .dataframe tbody tr th {\n",
              "        vertical-align: top;\n",
              "    }\n",
              "\n",
              "    .dataframe thead th {\n",
              "        text-align: right;\n",
              "    }\n",
              "</style>\n",
              "<table border=\"1\" class=\"dataframe\">\n",
              "  <thead>\n",
              "    <tr style=\"text-align: right;\">\n",
              "      <th></th>\n",
              "      <th>age</th>\n",
              "      <th>home_owner</th>\n",
              "      <th>income</th>\n",
              "      <th>months_employed</th>\n",
              "      <th>years_employed</th>\n",
              "      <th>current_address_year</th>\n",
              "      <th>personal_account_m</th>\n",
              "      <th>personal_account_y</th>\n",
              "      <th>has_debt</th>\n",
              "      <th>amount_requested</th>\n",
              "      <th>risk_score</th>\n",
              "      <th>risk_score_2</th>\n",
              "      <th>risk_score_3</th>\n",
              "      <th>risk_score_4</th>\n",
              "      <th>risk_score_5</th>\n",
              "      <th>ext_quality_score</th>\n",
              "      <th>ext_quality_score_2</th>\n",
              "      <th>inquiries_last_month</th>\n",
              "      <th>monthly</th>\n",
              "      <th>semi-monthly</th>\n",
              "      <th>weekly</th>\n",
              "    </tr>\n",
              "  </thead>\n",
              "  <tbody>\n",
              "    <tr>\n",
              "      <th>0</th>\n",
              "      <td>40</td>\n",
              "      <td>1</td>\n",
              "      <td>3135</td>\n",
              "      <td>0</td>\n",
              "      <td>3</td>\n",
              "      <td>3</td>\n",
              "      <td>6</td>\n",
              "      <td>2</td>\n",
              "      <td>1</td>\n",
              "      <td>550</td>\n",
              "      <td>36200</td>\n",
              "      <td>0.737398</td>\n",
              "      <td>0.903517</td>\n",
              "      <td>0.487712</td>\n",
              "      <td>0.515977</td>\n",
              "      <td>0.580918</td>\n",
              "      <td>0.380918</td>\n",
              "      <td>10</td>\n",
              "      <td>0</td>\n",
              "      <td>0</td>\n",
              "      <td>0</td>\n",
              "    </tr>\n",
              "    <tr>\n",
              "      <th>1</th>\n",
              "      <td>61</td>\n",
              "      <td>0</td>\n",
              "      <td>3180</td>\n",
              "      <td>0</td>\n",
              "      <td>6</td>\n",
              "      <td>3</td>\n",
              "      <td>2</td>\n",
              "      <td>7</td>\n",
              "      <td>1</td>\n",
              "      <td>600</td>\n",
              "      <td>30150</td>\n",
              "      <td>0.738510</td>\n",
              "      <td>0.881027</td>\n",
              "      <td>0.713423</td>\n",
              "      <td>0.826402</td>\n",
              "      <td>0.730720</td>\n",
              "      <td>0.630720</td>\n",
              "      <td>9</td>\n",
              "      <td>0</td>\n",
              "      <td>0</td>\n",
              "      <td>1</td>\n",
              "    </tr>\n",
              "    <tr>\n",
              "      <th>2</th>\n",
              "      <td>23</td>\n",
              "      <td>0</td>\n",
              "      <td>1540</td>\n",
              "      <td>6</td>\n",
              "      <td>0</td>\n",
              "      <td>0</td>\n",
              "      <td>7</td>\n",
              "      <td>1</td>\n",
              "      <td>1</td>\n",
              "      <td>450</td>\n",
              "      <td>34550</td>\n",
              "      <td>0.642993</td>\n",
              "      <td>0.766554</td>\n",
              "      <td>0.595018</td>\n",
              "      <td>0.762284</td>\n",
              "      <td>0.531712</td>\n",
              "      <td>0.531712</td>\n",
              "      <td>7</td>\n",
              "      <td>0</td>\n",
              "      <td>0</td>\n",
              "      <td>1</td>\n",
              "    </tr>\n",
              "    <tr>\n",
              "      <th>3</th>\n",
              "      <td>40</td>\n",
              "      <td>0</td>\n",
              "      <td>5230</td>\n",
              "      <td>0</td>\n",
              "      <td>6</td>\n",
              "      <td>1</td>\n",
              "      <td>2</td>\n",
              "      <td>7</td>\n",
              "      <td>1</td>\n",
              "      <td>700</td>\n",
              "      <td>42150</td>\n",
              "      <td>0.665224</td>\n",
              "      <td>0.960832</td>\n",
              "      <td>0.767828</td>\n",
              "      <td>0.778831</td>\n",
              "      <td>0.792552</td>\n",
              "      <td>0.592552</td>\n",
              "      <td>8</td>\n",
              "      <td>0</td>\n",
              "      <td>0</td>\n",
              "      <td>0</td>\n",
              "    </tr>\n",
              "    <tr>\n",
              "      <th>4</th>\n",
              "      <td>33</td>\n",
              "      <td>0</td>\n",
              "      <td>3590</td>\n",
              "      <td>0</td>\n",
              "      <td>5</td>\n",
              "      <td>2</td>\n",
              "      <td>2</td>\n",
              "      <td>8</td>\n",
              "      <td>1</td>\n",
              "      <td>1100</td>\n",
              "      <td>53850</td>\n",
              "      <td>0.617361</td>\n",
              "      <td>0.857560</td>\n",
              "      <td>0.613487</td>\n",
              "      <td>0.665523</td>\n",
              "      <td>0.744634</td>\n",
              "      <td>0.744634</td>\n",
              "      <td>12</td>\n",
              "      <td>0</td>\n",
              "      <td>1</td>\n",
              "      <td>0</td>\n",
              "    </tr>\n",
              "    <tr>\n",
              "      <th>...</th>\n",
              "      <td>...</td>\n",
              "      <td>...</td>\n",
              "      <td>...</td>\n",
              "      <td>...</td>\n",
              "      <td>...</td>\n",
              "      <td>...</td>\n",
              "      <td>...</td>\n",
              "      <td>...</td>\n",
              "      <td>...</td>\n",
              "      <td>...</td>\n",
              "      <td>...</td>\n",
              "      <td>...</td>\n",
              "      <td>...</td>\n",
              "      <td>...</td>\n",
              "      <td>...</td>\n",
              "      <td>...</td>\n",
              "      <td>...</td>\n",
              "      <td>...</td>\n",
              "      <td>...</td>\n",
              "      <td>...</td>\n",
              "      <td>...</td>\n",
              "    </tr>\n",
              "    <tr>\n",
              "      <th>17903</th>\n",
              "      <td>31</td>\n",
              "      <td>0</td>\n",
              "      <td>3245</td>\n",
              "      <td>0</td>\n",
              "      <td>5</td>\n",
              "      <td>3</td>\n",
              "      <td>2</td>\n",
              "      <td>6</td>\n",
              "      <td>1</td>\n",
              "      <td>700</td>\n",
              "      <td>71700</td>\n",
              "      <td>0.691126</td>\n",
              "      <td>0.928196</td>\n",
              "      <td>0.664112</td>\n",
              "      <td>0.838012</td>\n",
              "      <td>0.727705</td>\n",
              "      <td>0.627705</td>\n",
              "      <td>2</td>\n",
              "      <td>1</td>\n",
              "      <td>0</td>\n",
              "      <td>0</td>\n",
              "    </tr>\n",
              "    <tr>\n",
              "      <th>17904</th>\n",
              "      <td>46</td>\n",
              "      <td>0</td>\n",
              "      <td>6525</td>\n",
              "      <td>0</td>\n",
              "      <td>2</td>\n",
              "      <td>1</td>\n",
              "      <td>3</td>\n",
              "      <td>3</td>\n",
              "      <td>1</td>\n",
              "      <td>800</td>\n",
              "      <td>51800</td>\n",
              "      <td>0.648525</td>\n",
              "      <td>0.970832</td>\n",
              "      <td>0.699241</td>\n",
              "      <td>0.844724</td>\n",
              "      <td>0.774918</td>\n",
              "      <td>0.474918</td>\n",
              "      <td>3</td>\n",
              "      <td>0</td>\n",
              "      <td>0</td>\n",
              "      <td>0</td>\n",
              "    </tr>\n",
              "    <tr>\n",
              "      <th>17905</th>\n",
              "      <td>46</td>\n",
              "      <td>0</td>\n",
              "      <td>2685</td>\n",
              "      <td>0</td>\n",
              "      <td>5</td>\n",
              "      <td>1</td>\n",
              "      <td>1</td>\n",
              "      <td>8</td>\n",
              "      <td>1</td>\n",
              "      <td>1200</td>\n",
              "      <td>59650</td>\n",
              "      <td>0.677975</td>\n",
              "      <td>0.918141</td>\n",
              "      <td>0.687981</td>\n",
              "      <td>0.939101</td>\n",
              "      <td>0.472045</td>\n",
              "      <td>0.672045</td>\n",
              "      <td>9</td>\n",
              "      <td>0</td>\n",
              "      <td>0</td>\n",
              "      <td>1</td>\n",
              "    </tr>\n",
              "    <tr>\n",
              "      <th>17906</th>\n",
              "      <td>42</td>\n",
              "      <td>0</td>\n",
              "      <td>2515</td>\n",
              "      <td>0</td>\n",
              "      <td>3</td>\n",
              "      <td>5</td>\n",
              "      <td>6</td>\n",
              "      <td>1</td>\n",
              "      <td>1</td>\n",
              "      <td>400</td>\n",
              "      <td>80200</td>\n",
              "      <td>0.642741</td>\n",
              "      <td>0.885684</td>\n",
              "      <td>0.456448</td>\n",
              "      <td>0.686823</td>\n",
              "      <td>0.406568</td>\n",
              "      <td>0.406568</td>\n",
              "      <td>3</td>\n",
              "      <td>0</td>\n",
              "      <td>0</td>\n",
              "      <td>0</td>\n",
              "    </tr>\n",
              "    <tr>\n",
              "      <th>17907</th>\n",
              "      <td>29</td>\n",
              "      <td>1</td>\n",
              "      <td>2665</td>\n",
              "      <td>0</td>\n",
              "      <td>4</td>\n",
              "      <td>10</td>\n",
              "      <td>4</td>\n",
              "      <td>1</td>\n",
              "      <td>1</td>\n",
              "      <td>600</td>\n",
              "      <td>64950</td>\n",
              "      <td>0.720889</td>\n",
              "      <td>0.874372</td>\n",
              "      <td>0.505565</td>\n",
              "      <td>0.631619</td>\n",
              "      <td>0.846163</td>\n",
              "      <td>0.846163</td>\n",
              "      <td>4</td>\n",
              "      <td>0</td>\n",
              "      <td>0</td>\n",
              "      <td>1</td>\n",
              "    </tr>\n",
              "  </tbody>\n",
              "</table>\n",
              "<p>17908 rows × 21 columns</p>\n",
              "</div>"
            ],
            "text/plain": [
              "       age  home_owner  income  ...  monthly  semi-monthly  weekly\n",
              "0       40           1    3135  ...        0             0       0\n",
              "1       61           0    3180  ...        0             0       1\n",
              "2       23           0    1540  ...        0             0       1\n",
              "3       40           0    5230  ...        0             0       0\n",
              "4       33           0    3590  ...        0             1       0\n",
              "...    ...         ...     ...  ...      ...           ...     ...\n",
              "17903   31           0    3245  ...        1             0       0\n",
              "17904   46           0    6525  ...        0             0       0\n",
              "17905   46           0    2685  ...        0             0       1\n",
              "17906   42           0    2515  ...        0             0       0\n",
              "17907   29           1    2665  ...        0             0       1\n",
              "\n",
              "[17908 rows x 21 columns]"
            ]
          },
          "metadata": {
            "tags": []
          },
          "execution_count": 14
        }
      ]
    },
    {
      "cell_type": "code",
      "metadata": {
        "id": "ArcbFlPeMK4f"
      },
      "source": [
        "from sklearn.model_selection import train_test_split\n",
        "X_train,X_test,y_train,y_test=train_test_split(X,y,test_size=0.3,random_state=101)"
      ],
      "execution_count": null,
      "outputs": []
    },
    {
      "cell_type": "code",
      "metadata": {
        "id": "YVe-kPsbmHob"
      },
      "source": [
        "from sklearn.preprocessing import StandardScaler\n",
        "sc=StandardScaler()\n",
        "X_train=sc.fit_transform(X_train)\n",
        "X_test=sc.transform(X_test)"
      ],
      "execution_count": null,
      "outputs": []
    },
    {
      "cell_type": "markdown",
      "metadata": {
        "id": "H2AshjLkYgxD"
      },
      "source": [
        "**LOGISTIC REGRESSION CLASSIFIER**"
      ]
    },
    {
      "cell_type": "code",
      "metadata": {
        "id": "I_-KfmlFMo3D",
        "colab": {
          "base_uri": "https://localhost:8080/",
          "height": 34
        },
        "outputId": "bd6f58b7-e612-457c-e934-bbbc8f1a0989"
      },
      "source": [
        "from sklearn.linear_model import LogisticRegression\n",
        "import warnings\n",
        "warnings.filterwarnings('ignore')\n",
        "classifier=LogisticRegression()\n",
        "classifier.fit(X_train,y_train)\n",
        "y_pred=classifier.predict(X_test)\n",
        "print(y_pred)"
      ],
      "execution_count": null,
      "outputs": [
        {
          "output_type": "stream",
          "text": [
            "[1 1 1 ... 1 1 1]\n"
          ],
          "name": "stdout"
        }
      ]
    },
    {
      "cell_type": "code",
      "metadata": {
        "id": "fRUpcZKvNTbR",
        "colab": {
          "base_uri": "https://localhost:8080/",
          "height": 70
        },
        "outputId": "30451040-b81e-48e5-e142-30bcf43f75c5"
      },
      "source": [
        "from sklearn.metrics import confusion_matrix,accuracy_score\n",
        "cn=confusion_matrix(y_test,y_pred)\n",
        "print(cn)\n",
        "accuracy_score(y_test,y_pred)"
      ],
      "execution_count": null,
      "outputs": [
        {
          "output_type": "stream",
          "text": [
            "[[1039 1448]\n",
            " [ 805 2081]]\n"
          ],
          "name": "stdout"
        },
        {
          "output_type": "execute_result",
          "data": {
            "text/plain": [
              "0.5806811836962591"
            ]
          },
          "metadata": {
            "tags": []
          },
          "execution_count": 43
        }
      ]
    },
    {
      "cell_type": "markdown",
      "metadata": {
        "id": "awVJYJnWYoih"
      },
      "source": [
        "**DECISION TREE CLASSIFIER**"
      ]
    },
    {
      "cell_type": "code",
      "metadata": {
        "id": "n65Q0dGzN3at",
        "colab": {
          "base_uri": "https://localhost:8080/",
          "height": 87
        },
        "outputId": "267b5d98-255f-4efb-c686-ff053841e049"
      },
      "source": [
        "from sklearn.tree import DecisionTreeClassifier\n",
        "classifier= DecisionTreeClassifier(criterion = 'entropy')\n",
        "classifier.fit(X_train, y_train)\n",
        "y_pred=classifier.predict(X_test)\n",
        "print(y_pred)\n",
        "DecisionTreeClassifier(criterion='entropy')\n",
        "cn=confusion_matrix(y_test,y_pred)\n",
        "print(cn)\n",
        "accuracy_score(y_test,y_pred)"
      ],
      "execution_count": null,
      "outputs": [
        {
          "output_type": "stream",
          "text": [
            "[1 1 1 ... 1 1 0]\n",
            "[[1290 1197]\n",
            " [1155 1731]]\n"
          ],
          "name": "stdout"
        },
        {
          "output_type": "execute_result",
          "data": {
            "text/plain": [
              "0.5622557230597431"
            ]
          },
          "metadata": {
            "tags": []
          },
          "execution_count": 44
        }
      ]
    },
    {
      "cell_type": "markdown",
      "metadata": {
        "id": "T5tGwS_JYtaP"
      },
      "source": [
        "**RANDOM FOREST CLASSIFIER**"
      ]
    },
    {
      "cell_type": "code",
      "metadata": {
        "id": "bIpiPlm_OPIp",
        "colab": {
          "base_uri": "https://localhost:8080/",
          "height": 87
        },
        "outputId": "4d44a173-720a-444b-edeb-0aca5b614e75"
      },
      "source": [
        "from sklearn.ensemble import RandomForestClassifier\n",
        "classifier= RandomForestClassifier(n_estimators =100, criterion = 'entropy')\n",
        "classifier.fit(X_train, y_train)\n",
        "y_pred=classifier.predict(X_test)\n",
        "print(y_pred)\n",
        "cn=confusion_matrix(y_test,y_pred)\n",
        "print(cn)\n",
        "RandomForestClassifier(criterion='entropy', n_estimators=20)\n",
        "accuracy_score(y_test,y_pred)\n"
      ],
      "execution_count": null,
      "outputs": [
        {
          "output_type": "stream",
          "text": [
            "[1 1 0 ... 1 1 0]\n",
            "[[1386 1101]\n",
            " [ 885 2001]]\n"
          ],
          "name": "stdout"
        },
        {
          "output_type": "execute_result",
          "data": {
            "text/plain": [
              "0.6303740926856505"
            ]
          },
          "metadata": {
            "tags": []
          },
          "execution_count": 45
        }
      ]
    },
    {
      "cell_type": "markdown",
      "metadata": {
        "id": "1ntnNoLHYyU_"
      },
      "source": [
        "**GAUSSIAN NAIVE BAYES CLASSIFIER** "
      ]
    },
    {
      "cell_type": "code",
      "metadata": {
        "id": "-Hi-tN7MOk7N",
        "colab": {
          "base_uri": "https://localhost:8080/",
          "height": 70
        },
        "outputId": "bdb73716-1d72-40e9-aac8-adc1f67069c2"
      },
      "source": [
        "from sklearn.naive_bayes import GaussianNB \n",
        "gnb = GaussianNB() \n",
        "gnb.fit(X_train, y_train)  \n",
        "y_pred = gnb.predict(X_test)  \n",
        "cn=confusion_matrix(y_test,y_pred)\n",
        "print(cn)\n",
        "accuracy_score(y_test,y_pred)"
      ],
      "execution_count": null,
      "outputs": [
        {
          "output_type": "stream",
          "text": [
            "[[1277 1210]\n",
            " [1096 1790]]\n"
          ],
          "name": "stdout"
        },
        {
          "output_type": "execute_result",
          "data": {
            "text/plain": [
              "0.5708170482039828"
            ]
          },
          "metadata": {
            "tags": []
          },
          "execution_count": 46
        }
      ]
    },
    {
      "cell_type": "markdown",
      "metadata": {
        "id": "Pz9HAIN6ZGQO"
      },
      "source": [
        "**XGBOOST CLASSIFIER**"
      ]
    },
    {
      "cell_type": "code",
      "metadata": {
        "id": "ucnRa7ZePBH5",
        "colab": {
          "base_uri": "https://localhost:8080/",
          "height": 87
        },
        "outputId": "176b6a8f-18a6-4bb7-e7e2-b066566f17c4"
      },
      "source": [
        "import xgboost as xgb\n",
        "from xgboost import XGBClassifier\n",
        "classifier = XGBClassifier(learning_rate=0.1, n_estimators=20, max_depth=5,\n",
        "                        min_child_weight=3, gamma=0.2, subsample=0.6, colsample_bytree=1.0,\n",
        "                        objective='binary:logistic', nthread=4, scale_pos_weight=1, seed=27)\n",
        "\n",
        "classifier.fit(X_train, y_train)\n",
        "y_pred=classifier.predict(X_test)\n",
        "print(y_pred)\n",
        "from sklearn.metrics import confusion_matrix,accuracy_score\n",
        "cn=confusion_matrix(y_test,y_pred)\n",
        "print(cn)\n",
        "accuracy_score(y_test,y_pred)"
      ],
      "execution_count": null,
      "outputs": [
        {
          "output_type": "stream",
          "text": [
            "[1 1 0 ... 1 1 1]\n",
            "[[1284 1203]\n",
            " [ 767 2119]]\n"
          ],
          "name": "stdout"
        },
        {
          "output_type": "execute_result",
          "data": {
            "text/plain": [
              "0.6333519449097339"
            ]
          },
          "metadata": {
            "tags": []
          },
          "execution_count": 47
        }
      ]
    },
    {
      "cell_type": "markdown",
      "metadata": {
        "id": "kMAPgXkeZTJh"
      },
      "source": [
        "**CATBOOST CLASSIFIER**"
      ]
    },
    {
      "cell_type": "code",
      "metadata": {
        "id": "wpYsZdMiN0KS",
        "colab": {
          "base_uri": "https://localhost:8080/",
          "height": 34
        },
        "outputId": "2ee8c1eb-8aea-40de-8711-c84dbe15e40f"
      },
      "source": [
        "import catboost as ctb\n",
        "from catboost import CatBoostClassifier\n",
        "classifier= CatBoostClassifier(loss_function='Logloss',eval_metric='AUC',nan_mode='Min',thread_count=8,task_type='CPU')\n",
        "classifier.fit(X_train,y_train,verbose=False)"
      ],
      "execution_count": null,
      "outputs": [
        {
          "output_type": "execute_result",
          "data": {
            "text/plain": [
              "<catboost.core.CatBoostClassifier at 0x7f9eeaca87f0>"
            ]
          },
          "metadata": {
            "tags": []
          },
          "execution_count": 85
        }
      ]
    },
    {
      "cell_type": "code",
      "metadata": {
        "id": "JEL5eyZcbMj6",
        "colab": {
          "base_uri": "https://localhost:8080/",
          "height": 87
        },
        "outputId": "70c3ff09-c1d3-4dea-fa11-ca94ef2ab6c0"
      },
      "source": [
        "y_pred=classifier.predict(X_test)\n",
        "print(y_pred)\n",
        "from sklearn.metrics import confusion_matrix,accuracy_score\n",
        "cn=confusion_matrix(y_test,y_pred)\n",
        "print(cn)\n",
        "accuracy_score(y_test,y_pred)"
      ],
      "execution_count": null,
      "outputs": [
        {
          "output_type": "stream",
          "text": [
            "[1 1 0 ... 1 1 0]\n",
            "[[1430 1057]\n",
            " [ 823 2063]]\n"
          ],
          "name": "stdout"
        },
        {
          "output_type": "execute_result",
          "data": {
            "text/plain": [
              "0.6501023636702029"
            ]
          },
          "metadata": {
            "tags": []
          },
          "execution_count": 86
        }
      ]
    },
    {
      "cell_type": "code",
      "metadata": {
        "id": "o95ioL-Ydn-r"
      },
      "source": [
        ""
      ],
      "execution_count": null,
      "outputs": []
    }
  ]
}